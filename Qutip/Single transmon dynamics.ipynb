{
 "cells": [
  {
   "cell_type": "code",
   "execution_count": 1,
   "metadata": {
    "collapsed": false
   },
   "outputs": [
    {
     "name": "stdout",
     "output_type": "stream",
     "text": [
      "Populating the interactive namespace from numpy and matplotlib\n"
     ]
    }
   ],
   "source": [
    "%pylab inline --no-import-all"
   ]
  },
  {
   "cell_type": "code",
   "execution_count": 2,
   "metadata": {
    "collapsed": true
   },
   "outputs": [],
   "source": [
    "from scipy import *\n",
    "from scipy.constants import e, h, hbar\n",
    "from qutip import *"
   ]
  },
  {
   "cell_type": "code",
   "execution_count": 3,
   "metadata": {
    "collapsed": true
   },
   "outputs": [],
   "source": [
    "font = {\"size\":20}\n",
    "matplotlib.rc(\"font\", **font)"
   ]
  },
  {
   "cell_type": "code",
   "execution_count": 78,
   "metadata": {
    "collapsed": true
   },
   "outputs": [],
   "source": [
    "C_q = 90e-15\n",
    "Φ = 0 # in Φ_0\n",
    "\n",
    "def E_C():\n",
    "    return (e)**2/2/C_q/h/1e9\n",
    "def E_J():\n",
    "    return (6+E_C())**2/8/E_C()*cos(pi*Φ)"
   ]
  },
  {
   "cell_type": "code",
   "execution_count": 79,
   "metadata": {
    "collapsed": false
   },
   "outputs": [
    {
     "data": {
      "text/plain": [
       "104.24114800731283"
      ]
     },
     "execution_count": 79,
     "metadata": {},
     "output_type": "execute_result"
    }
   ],
   "source": [
    "E_J()/E_C()"
   ]
  },
  {
   "cell_type": "code",
   "execution_count": 147,
   "metadata": {
    "collapsed": true
   },
   "outputs": [],
   "source": [
    "N_q = 5\n",
    "gamma = .1"
   ]
  },
  {
   "cell_type": "code",
   "execution_count": 99,
   "metadata": {
    "collapsed": false
   },
   "outputs": [],
   "source": [
    "def n():\n",
    "    return Qobj((diag(arange(-N_q, N_q+1, 1))))\n",
    "def H_q():\n",
    "    return 4*E_C()*n()**2+ E_J()/2*(Qobj(diag(ones(2*N_q), 1) + diag(ones(2*N_q), -1)))\n",
    "def c():\n",
    "    evals, evecs = H_q().eigenstates()\n",
    "    return sum([n().matrix_element(evecs[j], evecs[j+1])/n().matrix_element(evecs[0], evecs[1])*evecs[j]*evecs[j+1].dag() for j in range(0, N_q)]) "
   ]
  },
  {
   "cell_type": "code",
   "execution_count": 149,
   "metadata": {
    "collapsed": false
   },
   "outputs": [],
   "source": [
    "evals, evecs = H_q().eigenstates()"
   ]
  },
  {
   "cell_type": "code",
   "execution_count": 150,
   "metadata": {
    "collapsed": false
   },
   "outputs": [
    {
     "data": {
      "text/latex": [
       "Quantum object: dims = [[1], [1]], shape = [1, 1], type = oper, isherm = True\\begin{equation*}\\left(\\begin{array}{*{11}c}1.0\\\\\\end{array}\\right)\\end{equation*}"
      ],
      "text/plain": [
       "Quantum object: dims = [[1], [1]], shape = [1, 1], type = oper, isherm = True\n",
       "Qobj data =\n",
       "[[ 1.]]"
      ]
     },
     "execution_count": 150,
     "metadata": {},
     "output_type": "execute_result"
    }
   ],
   "source": [
    "(c()*evecs[1]).dag()*evecs[0]"
   ]
  },
  {
   "cell_type": "code",
   "execution_count": 102,
   "metadata": {
    "collapsed": false
   },
   "outputs": [
    {
     "data": {
      "text/plain": [
       "(-0.23497686116099459, 5.9918038157876481, 11.748630770414302)"
      ]
     },
     "execution_count": 102,
     "metadata": {},
     "output_type": "execute_result"
    }
   ],
   "source": [
    "evals[2]-evals[1] - evals[1]+evals[0], evals[1]-evals[0], evals[2]-evals[0]"
   ]
  },
  {
   "cell_type": "code",
   "execution_count": 167,
   "metadata": {
    "collapsed": false
   },
   "outputs": [
    {
     "name": "stdout",
     "output_type": "stream",
     "text": [
      "10.0%. Run time:   2.18s. Est. time left: 00:00:00:19\n",
      "20.0%. Run time:   4.54s. Est. time left: 00:00:00:18\n",
      "30.0%. Run time:   7.49s. Est. time left: 00:00:00:17\n",
      "40.0%. Run time:  10.87s. Est. time left: 00:00:00:16\n",
      "50.0%. Run time:  14.40s. Est. time left: 00:00:00:14\n",
      "60.0%. Run time:  17.32s. Est. time left: 00:00:00:11\n",
      "70.0%. Run time:  20.19s. Est. time left: 00:00:00:08\n",
      "80.0%. Run time:  23.53s. Est. time left: 00:00:00:05\n",
      "90.0%. Run time:  26.92s. Est. time left: 00:00:00:02\n",
      "Total run time:  29.52s\n"
     ]
    }
   ],
   "source": [
    "Ts = linspace(0, 1000, 1000)\n",
    "f_q = 0.05\n",
    "\n",
    "args = {}\n",
    "args[\"omega\"] = evals[1]-evals[0]\n",
    "\n",
    "opts = Options(rhs_reuse=True)\n",
    "\n",
    "states = mesolve([H_q(), [n()*f_q, \"sin(omega*t)\"]], evecs[0]*evecs[0].dag(), Ts, [gamma*c()], [], args=args, progress_bar=True).states\n",
    "# states = mesolve([H_q(), [(Qobj(diag(ones(2*N_q), 1) + diag(ones(2*N_q), -1))), f_q*sin((evals[1]-evals[0])*Ts)]], evecs[0], Ts, [], [], progress_bar=True).states\n",
    "\n",
    "# c0s = [abs((state.dag()*evecs[0]).data[0,0])**2 for state in states]\n",
    "# c1s = [abs((state.dag()*evecs[1]).data[0,0])**2 for state in states]\n",
    "# c2s = [abs((state.dag()*evecs[2]).data[0,0])**2 for state in states]\n",
    "# c3s = [abs((state.dag()*evecs[3]).data[0,0])**2 for state in states]\n",
    "\n",
    "c0s = [abs((state.dag()*(evecs[0]*evecs[0].dag())).tr()) for state in states]\n",
    "c1s = [abs((state.dag()*(evecs[1]*evecs[1].dag())).tr()) for state in states]\n",
    "c2s = [abs((state.dag()*(evecs[2]*evecs[2].dag())).tr()) for state in states]\n",
    "c3s = [abs((state.dag()*(evecs[3]*evecs[3].dag())).tr()) for state in states]\n"
   ]
  },
  {
   "cell_type": "code",
   "execution_count": 168,
   "metadata": {
    "collapsed": false
   },
   "outputs": [
    {
     "data": {
      "image/png": "[encoded data removed]",
      "text/plain": [
       "<matplotlib.figure.Figure at 0x7f4a8386fa90>"
      ]
     },
     "metadata": {},
     "output_type": "display_data"
    }
   ],
   "source": [
    "fig, axes = plt.subplots(nrows = 4, ncols=1, figsize=(7,7))\n",
    "\n",
    "lines = [c0s, c1s, c2s, c3s]\n",
    "colors = [\"blue\", \"orange\", \"green\", \"red\"]\n",
    "for idx, cs, ax in zip(range(0, 4), lines, axes[::-1]):\n",
    "    ax.plot(Ts, cs, color = colors[idx])\n",
    "    dict(ax.spines.items())[\"left\"].set_position(('outward', 10))\n",
    "    dict(ax.spines.items())[\"bottom\"].set_position(('outward', 10))\n",
    "    dict(ax.spines.items())[\"top\"].set_position(('outward', 10))\n",
    "    dict(ax.spines.items())[\"right\"].set_position(('outward', 10))\n",
    "    ax.set_ylim(0, 1)\n",
    "    ax.grid()\n",
    "    ax.set_yticks((0,.5,1))\n",
    "    ax.set_ylabel(\"$|c_%i|^2$\"%idx, fontsize=22)\n",
    "    if idx > 0:\n",
    "        ax.set_xticklabels([])\n",
    "    else:\n",
    "        ax.set_xlabel(\"t [ns]\",position=(1,0))\n",
    "        ax.annotate(\"$f_q = %.2f$\"%f_q, (0,0), xytext=(0,-0.75), textcoords=\"axes fraction\")\n",
    "plt.tight_layout()\n",
    "plt.savefig(\"tr_vstr_dr.pdf\", format=\"pdf\")"
   ]
  },
  {
   "cell_type": "code",
   "execution_count": 198,
   "metadata": {
    "collapsed": false,
    "scrolled": true
   },
   "outputs": [
    {
     "name": "stdout",
     "output_type": "stream",
     "text": [
      "10.0%. Run time:  40.77s. Est. time left: 00:00:06:06\n",
      "20.0%. Run time:  59.85s. Est. time left: 00:00:03:59\n",
      "30.0%. Run time:  80.49s. Est. time left: 00:00:03:07\n",
      "40.0%. Run time: 101.30s. Est. time left: 00:00:02:31\n",
      "50.0%. Run time: 135.51s. Est. time left: 00:00:02:15\n",
      "60.0%. Run time: 154.38s. Est. time left: 00:00:01:42\n",
      "70.0%. Run time: 172.58s. Est. time left: 00:00:01:13\n",
      "80.0%. Run time: 192.72s. Est. time left: 00:00:00:48\n",
      "90.0%. Run time: 225.42s. Est. time left: 00:00:00:25\n",
      "100.0%. Run time: 238.45s. Est. time left: 00:00:00:00\n",
      "Total run time: 238.51s\n"
     ]
    }
   ],
   "source": [
    "ks = linspace(0.9, 1.1)\n",
    "\n",
    "opts = Options(rhs_reuse=True, nsteps=1e4)\n",
    "rhs_clear()\n",
    "\n",
    "def parallel_task(omega):\n",
    "    args = dict(omega=omega)\n",
    "    T = 2*pi/omega\n",
    "    U = propagator([H_q(), [n()*f_q, \"sin(omega*t)\"]], T, [gamma*c()], options=opts, args=args)\n",
    "    return propagator_steadystate(U)\n",
    "\n",
    "states = parallel_map(parallel_task, ks*(evals[1]-evals[0]), progress_bar=True, num_cpus=4)"
   ]
  },
  {
   "cell_type": "code",
   "execution_count": 192,
   "metadata": {
    "collapsed": false
   },
   "outputs": [
    {
     "data": {
      "text/plain": [
       "[<matplotlib.lines.Line2D at 0x7f4a8365d5f8>]"
      ]
     },
     "execution_count": 192,
     "metadata": {},
     "output_type": "execute_result"
    },
    {
     "data": {
      "image/png": "[encoded data removed]",
      "text/plain": [
       "<matplotlib.figure.Figure at 0x7f4a841d9550>"
      ]
     },
     "metadata": {},
     "output_type": "display_data"
    }
   ],
   "source": [
    "c0s = [abs((state.dag()*(evecs[1]*evecs[1].dag())).tr()) for state in states]\n",
    "plt.plot(ks*(evals[1]-evals[0]), c0s)"
   ]
  },
  {
   "cell_type": "code",
   "execution_count": null,
   "metadata": {
    "collapsed": true
   },
   "outputs": [],
   "source": []
  }
 ],
 "metadata": {
  "kernelspec": {
   "display_name": "Python 3",
   "language": "python",
   "name": "python3"
  },
  "language_info": {
   "codemirror_mode": {
    "name": "ipython",
    "version": 3
   },
   "file_extension": ".py",
   "mimetype": "text/x-python",
   "name": "python",
   "nbconvert_exporter": "python",
   "pygments_lexer": "ipython3",
   "version": "3.4.3"
  }
 },
 "nbformat": 4,
 "nbformat_minor": 0
}
